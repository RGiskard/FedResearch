{
 "cells": [
  {
   "cell_type": "code",
   "execution_count": 1,
   "id": "743aed04-4c8b-49fe-aa47-24dd16f7c7fe",
   "metadata": {},
   "outputs": [],
   "source": [
    "from client.entropicfl_client import EntropicFLClient\n"
   ]
  },
  {
   "cell_type": "code",
   "execution_count": 2,
   "id": "b0337603-deda-4153-bbdc-f53ae159732c",
   "metadata": {},
   "outputs": [
    {
     "name": "stdout",
     "output_type": "stream",
     "text": [
      "Estás ejecutando tu notebook en: /home/moebius/FedResearch/FedMLToolkit\n"
     ]
    }
   ],
   "source": [
    "import os\n",
    "\n",
    "# Obtener la ruta actual del notebook\n",
    "ruta_actual = os.getcwd()\n",
    "print(\"Estás ejecutando tu notebook en:\", ruta_actual)\n",
    "cid = 1  # ID del cliente"
   ]
  },
  {
   "cell_type": "code",
   "execution_count": 3,
   "id": "e3071ac6-357e-4837-860c-178325157c80",
   "metadata": {},
   "outputs": [],
   "source": [
    "cliente = EntropicFLClient(cid=cid)"
   ]
  },
  {
   "cell_type": "code",
   "execution_count": 4,
   "id": "de8fb106-c8bc-4ea7-a64c-f714b54729c1",
   "metadata": {},
   "outputs": [],
   "source": [
    "#data = cliente._load_data(1)"
   ]
  },
  {
   "cell_type": "code",
   "execution_count": 5,
   "id": "f3d65608-8a73-4295-82f0-db11a9fed619",
   "metadata": {},
   "outputs": [
    {
     "data": {
      "text/plain": [
       "device(type='cuda')"
      ]
     },
     "execution_count": 5,
     "metadata": {},
     "output_type": "execute_result"
    }
   ],
   "source": [
    "cliente.device"
   ]
  },
  {
   "cell_type": "code",
   "execution_count": 6,
   "id": "da5679e1-60d6-48db-9507-923f36020f74",
   "metadata": {},
   "outputs": [],
   "source": [
    "# Crear configuración para simular la llamada a fit\n",
    "config = {\n",
    "    \"round\": 1,  # Número de ronda\n",
    "    \"selected_cids\": \"1\"  # Clientes seleccionados (en este caso, solo el cliente 1)\n",
    "}\n"
   ]
  },
  {
   "cell_type": "code",
   "execution_count": 7,
   "id": "757a51da-d142-47fa-b606-83ab51e81cdc",
   "metadata": {},
   "outputs": [
    {
     "name": "stdout",
     "output_type": "stream",
     "text": [
      "Iniciando entrenamiento para el cliente 1 en la ronda 1...\n",
      "Epoch 1/5\n"
     ]
    },
    {
     "name": "stderr",
     "output_type": "stream",
     "text": [
      "Training: 100%|█████████████████████████████████████████████████████████████████████████| 38/38 [00:02<00:00, 18.52it/s]\n"
     ]
    },
    {
     "name": "stdout",
     "output_type": "stream",
     "text": [
      "Epoch 1/5 - Avg Loss: 0.0579, Accuracy: 0.3383\n",
      "Epoch 2/5\n"
     ]
    },
    {
     "name": "stderr",
     "output_type": "stream",
     "text": [
      "Training: 100%|████████████████████████████████████████████████████████████████████████| 38/38 [00:00<00:00, 134.18it/s]\n"
     ]
    },
    {
     "name": "stdout",
     "output_type": "stream",
     "text": [
      "Epoch 2/5 - Avg Loss: 0.0330, Accuracy: 0.7081\n",
      "Epoch 3/5\n"
     ]
    },
    {
     "name": "stderr",
     "output_type": "stream",
     "text": [
      "Training: 100%|████████████████████████████████████████████████████████████████████████| 38/38 [00:00<00:00, 156.98it/s]\n"
     ]
    },
    {
     "name": "stdout",
     "output_type": "stream",
     "text": [
      "Epoch 3/5 - Avg Loss: 0.0164, Accuracy: 0.8590\n",
      "Epoch 4/5\n"
     ]
    },
    {
     "name": "stderr",
     "output_type": "stream",
     "text": [
      "Training: 100%|████████████████████████████████████████████████████████████████████████| 38/38 [00:00<00:00, 157.53it/s]\n"
     ]
    },
    {
     "name": "stdout",
     "output_type": "stream",
     "text": [
      "Epoch 4/5 - Avg Loss: 0.0112, Accuracy: 0.8905\n",
      "Epoch 5/5\n"
     ]
    },
    {
     "name": "stderr",
     "output_type": "stream",
     "text": [
      "Training: 100%|████████████████████████████████████████████████████████████████████████| 38/38 [00:00<00:00, 156.79it/s]"
     ]
    },
    {
     "name": "stdout",
     "output_type": "stream",
     "text": [
      "Epoch 5/5 - Avg Loss: 0.0089, Accuracy: 0.9088\n",
      "Entrenamiento completado.\n",
      "Número de muestras utilizadas: 1206\n",
      "Métricas: {'skipped': False}\n"
     ]
    },
    {
     "name": "stderr",
     "output_type": "stream",
     "text": [
      "\n"
     ]
    }
   ],
   "source": [
    "# Simular la llamada al método `fit`\n",
    "print(f\"Iniciando entrenamiento para el cliente {cid} en la ronda {config['round']}...\")\n",
    "updated_parameters, num_samples_fit, fit_metrics = cliente.fit(parameters=None, config=config)\n",
    "\n",
    "# Imprimir resultados de la simulación\n",
    "print(\"Entrenamiento completado.\")\n",
    "print(f\"Número de muestras utilizadas: {num_samples_fit}\")\n",
    "print(f\"Métricas: {fit_metrics}\")"
   ]
  },
  {
   "cell_type": "code",
   "execution_count": 8,
   "id": "45612ec8-ad32-4e63-be78-e327c19d139b",
   "metadata": {},
   "outputs": [],
   "source": [
    "# Acceso a los pesos y gradientes\n",
    "#for name, param in cliente.model.named_parameters():\n",
    "#    print(f\"Nombre del parámetro: {name}\")\n",
    "#    print(f\"Peso: {param.data}\")  # Pesos actuales\n",
    "#    if param.grad is not None:\n",
    "#        print(f\"Gradiente: {param.grad}\")  # Gradientes calculados\n",
    "#    else:\n",
    "#        print(\"Gradiente: None (no calculado o no aplicado)\")\n"
   ]
  },
  {
   "cell_type": "code",
   "execution_count": 9,
   "id": "47215984-8900-4a2b-b4b8-230ba3e7292a",
   "metadata": {},
   "outputs": [
    {
     "data": {
      "text/plain": [
       "<torch.utils.data.dataloader.DataLoader at 0x7f5c53bdcc10>"
      ]
     },
     "execution_count": 9,
     "metadata": {},
     "output_type": "execute_result"
    }
   ],
   "source": [
    "cliente._load_validation_data()"
   ]
  },
  {
   "cell_type": "code",
   "execution_count": 10,
   "id": "ab5b661a-f755-4d24-9cf6-42f1bf058388",
   "metadata": {},
   "outputs": [
    {
     "name": "stdout",
     "output_type": "stream",
     "text": [
      "Entrenamiento completado.\n",
      "- Parámetros ajustados obtenidos\n",
      "- Número de muestras utilizadas en fit: 1206\n",
      "- Métricas del fit: {'skipped': False}\n",
      "Iniciando simulación de evaluación...\n"
     ]
    },
    {
     "name": "stderr",
     "output_type": "stream",
     "text": [
      "Evaluating: 100%|████████████████████████████████████████████████████████████████████| 313/313 [00:00<00:00, 329.48it/s]"
     ]
    },
    {
     "name": "stdout",
     "output_type": "stream",
     "text": [
      "Avg Loss: 2.2314, Accuracy: 0.6027\n",
      "Evaluación completada.\n",
      "- Pérdida promedio: 2.2314\n",
      "- Número de muestras evaluadas: 10000\n",
      "- Exactitud: 0.6027\n"
     ]
    },
    {
     "name": "stderr",
     "output_type": "stream",
     "text": [
      "\n"
     ]
    }
   ],
   "source": [
    "# Mostrar resultados del entrenamiento\n",
    "print(\"Entrenamiento completado.\")\n",
    "print(f\"- Parámetros ajustados obtenidos\")\n",
    "print(f\"- Número de muestras utilizadas en fit: {num_samples_fit}\")\n",
    "print(f\"- Métricas del fit: {fit_metrics}\")\n",
    "\n",
    "# Configuración para evaluación\n",
    "config_eval = {\n",
    "    \"round\": 1  # Número de ronda\n",
    "}\n",
    "\n",
    "# Ejecutar evaluación con los parámetros ajustados\n",
    "print(\"Iniciando simulación de evaluación...\")\n",
    "avg_loss, num_samples_eval, eval_metrics = cliente.evaluate(parameters=updated_parameters, config=config_eval)\n",
    "\n",
    "# Mostrar resultados de la evaluación\n",
    "print(\"Evaluación completada.\")\n",
    "print(f\"- Pérdida promedio: {avg_loss:.4f}\")\n",
    "print(f\"- Número de muestras evaluadas: {num_samples_eval}\")\n",
    "print(f\"- Exactitud: {eval_metrics['accuracy']:.4f}\")"
   ]
  },
  {
   "cell_type": "code",
   "execution_count": null,
   "id": "0209bc88-7567-4cac-9c6a-4becda32ad92",
   "metadata": {},
   "outputs": [],
   "source": []
  }
 ],
 "metadata": {
  "kernelspec": {
   "display_name": "Python 3 (ipykernel)",
   "language": "python",
   "name": "python3"
  },
  "language_info": {
   "codemirror_mode": {
    "name": "ipython",
    "version": 3
   },
   "file_extension": ".py",
   "mimetype": "text/x-python",
   "name": "python",
   "nbconvert_exporter": "python",
   "pygments_lexer": "ipython3",
   "version": "3.10.12"
  }
 },
 "nbformat": 4,
 "nbformat_minor": 5
}
